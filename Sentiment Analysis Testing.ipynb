{
  "nbformat": 4,
  "nbformat_minor": 0,
  "metadata": {
    "colab": {
      "name": "Sentiment_Analysis_test.ipynb",
      "provenance": []
    },
    "kernelspec": {
      "name": "python3",
      "display_name": "Python 3"
    },
    "accelerator": "GPU"
  },
  "cells": [
    {
      "cell_type": "code",
      "metadata": {
        "id": "qFN06jFIRlXb"
      },
      "source": [
        "import numpy as np\n",
        "import pandas as pd\n",
        "import matplotlib.pyplot as plt\n",
        "import pickle"
      ],
      "execution_count": null,
      "outputs": []
    },
    {
      "cell_type": "code",
      "metadata": {
        "id": "RPIfOr6xSUCP"
      },
      "source": [
        "model=pickle.load(open(\"finalized_model.sav\", \"rb\"))"
      ],
      "execution_count": null,
      "outputs": []
    },
    {
      "cell_type": "code",
      "metadata": {
        "id": "pIZp6hvUTJPf",
        "colab": {
          "base_uri": "https://localhost:8080/",
          "height": 392
        },
        "outputId": "f343c59e-78ad-486f-f28b-22ff78b11326"
      },
      "source": [
        "import json\n",
        "with open('twitter.json') as json_file: \n",
        "    df1 = json.load(json_file) \n",
        "df1"
      ],
      "execution_count": null,
      "outputs": [
        {
          "output_type": "execute_result",
          "data": {
            "text/plain": [
              "{'1': '@avi_my_name @elonmusk @RobertDowneyJr I hope @Interstellar too comes true.',\n",
              " '10': 'RT @NASA: LIVE NOW: History is about to be made. Watch as @NASA_Astronauts #LaunchAmerica to the @Space_Station from American soil for the…',\n",
              " '11': \"@sudipguti Seriously! What are they doing? And why aren't they informing us beforehand? Do they not realise that pe… https://t.co/R677x22YRx\",\n",
              " '12': '@poojam1507 @Girlscript1 I am selected as a participant in Python programming. Hoping to learn new things and work along. Congrats. ✌️✌️',\n",
              " '13': 'It has been 10 hours now without any kind of information from the distributors. This needs to resolve soon.… https://t.co/ZzmvCc7C91',\n",
              " '14': \"@AllianceBroadb1 Please notify your users before performing any sort of maintenance work! I'm from Hooghly district… https://t.co/guLsIP7hCS\",\n",
              " '15': 'Been in #lockdownindia for 2 months now and many incidents happened. From #COVID to #Amphan and then… https://t.co/dQuEd0eNK2',\n",
              " '16': 'Now WTF is this hairstyle !? 🤷🏻\\u200d♂️🤷🏻\\u200d♂️ \\n\\n#football #laliga #Barcelona #FCBarcelona https://t.co/Jz1L7PCmld',\n",
              " '17': '#CoronaLockdownIndia, I was getting bored so I tried to write this code to scrape the #Instagram account of the giv… https://t.co/fGrsubrnNS',\n",
              " '18': '@debdutgoswami @chiragnayyar @netflix Mr.Robot no more on @NetflixIndia',\n",
              " '19': '@chiragnayyar @netflix Money Heist and Bard of Blood',\n",
              " '2': 'Such a great achievement for @SpaceX, @elonmusk, and @NASA. https://t.co/0GsTc33Ql8',\n",
              " '20': '#Covid19India #CoronaChainScare #CoronavirusPandemic #Covid_19 #weekendvibes #boring #Coronaindia #coronavirusinindia #coronavacation',\n",
              " '3': 'RT @SpaceX: Liftoff! https://t.co/DRBfdUM7JA',\n",
              " '4': 'Now that we are forced to stay home for so long like animals kept in captivity, does #Lockdown5 even affect you men… https://t.co/zcA4X6FX92',\n",
              " '5': '@triethyl_01 I have an issue that I tend to pick up the song and start humming it. 😅😅',\n",
              " '6': '@triethyl_01 Sometimes I do forget the topic for what I called the other person.🙄🙄',\n",
              " '7': \"RT @tonygoldmark: Well nerds, I fuckin' did it.\\n\\nTook me a global pandemic and a damn quarantine, but I did it.\\n\\nI figured out the precise…\",\n",
              " '8': '@tusharfindsu @sudipguti @AllianceBroadb1 @ConsumerReports Seriously! Now they have restored the service but with 1… https://t.co/yTk1r5kbu3',\n",
              " '9': \"RT @debug_mode: 👉He committed suicide at the age of 41 because of his homosexuality n then Britain's rules \\n\\n👉His machine saved 14 million…\"}"
            ]
          },
          "metadata": {
            "tags": []
          },
          "execution_count": 10
        }
      ]
    },
    {
      "cell_type": "code",
      "metadata": {
        "id": "d6SdQRlpUNI2"
      },
      "source": [
        "df=pd.DataFrame(df1, index=[\"text\"])"
      ],
      "execution_count": null,
      "outputs": []
    },
    {
      "cell_type": "code",
      "metadata": {
        "id": "TrLjz56LWXZs",
        "colab": {
          "base_uri": "https://localhost:8080/",
          "height": 247
        },
        "outputId": "79a19ee1-5d78-4596-ef71-4f4739aa9c57"
      },
      "source": [
        "df"
      ],
      "execution_count": null,
      "outputs": [
        {
          "output_type": "execute_result",
          "data": {
            "text/html": [
              "<div>\n",
              "<style scoped>\n",
              "    .dataframe tbody tr th:only-of-type {\n",
              "        vertical-align: middle;\n",
              "    }\n",
              "\n",
              "    .dataframe tbody tr th {\n",
              "        vertical-align: top;\n",
              "    }\n",
              "\n",
              "    .dataframe thead th {\n",
              "        text-align: right;\n",
              "    }\n",
              "</style>\n",
              "<table border=\"1\" class=\"dataframe\">\n",
              "  <thead>\n",
              "    <tr style=\"text-align: right;\">\n",
              "      <th></th>\n",
              "      <th>1</th>\n",
              "      <th>2</th>\n",
              "      <th>3</th>\n",
              "      <th>4</th>\n",
              "      <th>5</th>\n",
              "      <th>6</th>\n",
              "      <th>7</th>\n",
              "      <th>8</th>\n",
              "      <th>9</th>\n",
              "      <th>10</th>\n",
              "      <th>11</th>\n",
              "      <th>12</th>\n",
              "      <th>13</th>\n",
              "      <th>14</th>\n",
              "      <th>15</th>\n",
              "      <th>16</th>\n",
              "      <th>17</th>\n",
              "      <th>18</th>\n",
              "      <th>19</th>\n",
              "      <th>20</th>\n",
              "    </tr>\n",
              "  </thead>\n",
              "  <tbody>\n",
              "    <tr>\n",
              "      <th>text</th>\n",
              "      <td>@avi_my_name @elonmusk @RobertDowneyJr I hope ...</td>\n",
              "      <td>Such a great achievement for @SpaceX, @elonmus...</td>\n",
              "      <td>RT @SpaceX: Liftoff! https://t.co/DRBfdUM7JA</td>\n",
              "      <td>Now that we are forced to stay home for so lon...</td>\n",
              "      <td>@triethyl_01 I have an issue that I tend to pi...</td>\n",
              "      <td>@triethyl_01 Sometimes I do forget the topic f...</td>\n",
              "      <td>RT @tonygoldmark: Well nerds, I fuckin' did it...</td>\n",
              "      <td>@tusharfindsu @sudipguti @AllianceBroadb1 @Con...</td>\n",
              "      <td>RT @debug_mode: 👉He committed suicide at the a...</td>\n",
              "      <td>RT @NASA: LIVE NOW: History is about to be mad...</td>\n",
              "      <td>@sudipguti Seriously! What are they doing? And...</td>\n",
              "      <td>@poojam1507 @Girlscript1 I am selected as a pa...</td>\n",
              "      <td>It has been 10 hours now without any kind of i...</td>\n",
              "      <td>@AllianceBroadb1 Please notify your users befo...</td>\n",
              "      <td>Been in #lockdownindia for 2 months now and ma...</td>\n",
              "      <td>Now WTF is this hairstyle !? 🤷🏻‍♂️🤷🏻‍♂️ \\n\\n#f...</td>\n",
              "      <td>#CoronaLockdownIndia, I was getting bored so I...</td>\n",
              "      <td>@debdutgoswami @chiragnayyar @netflix Mr.Robot...</td>\n",
              "      <td>@chiragnayyar @netflix Money Heist and Bard of...</td>\n",
              "      <td>#Covid19India #CoronaChainScare #CoronavirusPa...</td>\n",
              "    </tr>\n",
              "  </tbody>\n",
              "</table>\n",
              "</div>"
            ],
            "text/plain": [
              "                                                      1  ...                                                 20\n",
              "text  @avi_my_name @elonmusk @RobertDowneyJr I hope ...  ...  #Covid19India #CoronaChainScare #CoronavirusPa...\n",
              "\n",
              "[1 rows x 20 columns]"
            ]
          },
          "metadata": {
            "tags": []
          },
          "execution_count": 14
        }
      ]
    },
    {
      "cell_type": "code",
      "metadata": {
        "id": "ghp774L9WkX7",
        "colab": {
          "base_uri": "https://localhost:8080/",
          "height": 392
        },
        "outputId": "6c545a14-72a5-422a-c3cf-76d54eb00d2f"
      },
      "source": [
        "tweet=[]\n",
        "for i in range(len(df1)):\n",
        "  tweet.append(df1[str(i+1)])\n",
        "tweet\n"
      ],
      "execution_count": null,
      "outputs": [
        {
          "output_type": "execute_result",
          "data": {
            "text/plain": [
              "['@avi_my_name @elonmusk @RobertDowneyJr I hope @Interstellar too comes true.',\n",
              " 'Such a great achievement for @SpaceX, @elonmusk, and @NASA. https://t.co/0GsTc33Ql8',\n",
              " 'RT @SpaceX: Liftoff! https://t.co/DRBfdUM7JA',\n",
              " 'Now that we are forced to stay home for so long like animals kept in captivity, does #Lockdown5 even affect you men… https://t.co/zcA4X6FX92',\n",
              " '@triethyl_01 I have an issue that I tend to pick up the song and start humming it. 😅😅',\n",
              " '@triethyl_01 Sometimes I do forget the topic for what I called the other person.🙄🙄',\n",
              " \"RT @tonygoldmark: Well nerds, I fuckin' did it.\\n\\nTook me a global pandemic and a damn quarantine, but I did it.\\n\\nI figured out the precise…\",\n",
              " '@tusharfindsu @sudipguti @AllianceBroadb1 @ConsumerReports Seriously! Now they have restored the service but with 1… https://t.co/yTk1r5kbu3',\n",
              " \"RT @debug_mode: 👉He committed suicide at the age of 41 because of his homosexuality n then Britain's rules \\n\\n👉His machine saved 14 million…\",\n",
              " 'RT @NASA: LIVE NOW: History is about to be made. Watch as @NASA_Astronauts #LaunchAmerica to the @Space_Station from American soil for the…',\n",
              " \"@sudipguti Seriously! What are they doing? And why aren't they informing us beforehand? Do they not realise that pe… https://t.co/R677x22YRx\",\n",
              " '@poojam1507 @Girlscript1 I am selected as a participant in Python programming. Hoping to learn new things and work along. Congrats. ✌️✌️',\n",
              " 'It has been 10 hours now without any kind of information from the distributors. This needs to resolve soon.… https://t.co/ZzmvCc7C91',\n",
              " \"@AllianceBroadb1 Please notify your users before performing any sort of maintenance work! I'm from Hooghly district… https://t.co/guLsIP7hCS\",\n",
              " 'Been in #lockdownindia for 2 months now and many incidents happened. From #COVID to #Amphan and then… https://t.co/dQuEd0eNK2',\n",
              " 'Now WTF is this hairstyle !? 🤷🏻\\u200d♂️🤷🏻\\u200d♂️ \\n\\n#football #laliga #Barcelona #FCBarcelona https://t.co/Jz1L7PCmld',\n",
              " '#CoronaLockdownIndia, I was getting bored so I tried to write this code to scrape the #Instagram account of the giv… https://t.co/fGrsubrnNS',\n",
              " '@debdutgoswami @chiragnayyar @netflix Mr.Robot no more on @NetflixIndia',\n",
              " '@chiragnayyar @netflix Money Heist and Bard of Blood',\n",
              " '#Covid19India #CoronaChainScare #CoronavirusPandemic #Covid_19 #weekendvibes #boring #Coronaindia #coronavirusinindia #coronavacation']"
            ]
          },
          "metadata": {
            "tags": []
          },
          "execution_count": 17
        }
      ]
    },
    {
      "cell_type": "code",
      "metadata": {
        "id": "olkkNx62W0th"
      },
      "source": [
        "df=pd.DataFrame(tweet, columns=[\"text\"])"
      ],
      "execution_count": null,
      "outputs": []
    },
    {
      "cell_type": "code",
      "metadata": {
        "id": "Bex-74L2XhMO",
        "colab": {
          "base_uri": "https://localhost:8080/",
          "height": 647
        },
        "outputId": "84aa1054-6d70-43f0-ea00-62d9b1b4b81a"
      },
      "source": [
        "df"
      ],
      "execution_count": null,
      "outputs": [
        {
          "output_type": "execute_result",
          "data": {
            "text/html": [
              "<div>\n",
              "<style scoped>\n",
              "    .dataframe tbody tr th:only-of-type {\n",
              "        vertical-align: middle;\n",
              "    }\n",
              "\n",
              "    .dataframe tbody tr th {\n",
              "        vertical-align: top;\n",
              "    }\n",
              "\n",
              "    .dataframe thead th {\n",
              "        text-align: right;\n",
              "    }\n",
              "</style>\n",
              "<table border=\"1\" class=\"dataframe\">\n",
              "  <thead>\n",
              "    <tr style=\"text-align: right;\">\n",
              "      <th></th>\n",
              "      <th>text</th>\n",
              "    </tr>\n",
              "  </thead>\n",
              "  <tbody>\n",
              "    <tr>\n",
              "      <th>0</th>\n",
              "      <td>@avi_my_name @elonmusk @RobertDowneyJr I hope ...</td>\n",
              "    </tr>\n",
              "    <tr>\n",
              "      <th>1</th>\n",
              "      <td>Such a great achievement for @SpaceX, @elonmus...</td>\n",
              "    </tr>\n",
              "    <tr>\n",
              "      <th>2</th>\n",
              "      <td>RT @SpaceX: Liftoff! https://t.co/DRBfdUM7JA</td>\n",
              "    </tr>\n",
              "    <tr>\n",
              "      <th>3</th>\n",
              "      <td>Now that we are forced to stay home for so lon...</td>\n",
              "    </tr>\n",
              "    <tr>\n",
              "      <th>4</th>\n",
              "      <td>@triethyl_01 I have an issue that I tend to pi...</td>\n",
              "    </tr>\n",
              "    <tr>\n",
              "      <th>5</th>\n",
              "      <td>@triethyl_01 Sometimes I do forget the topic f...</td>\n",
              "    </tr>\n",
              "    <tr>\n",
              "      <th>6</th>\n",
              "      <td>RT @tonygoldmark: Well nerds, I fuckin' did it...</td>\n",
              "    </tr>\n",
              "    <tr>\n",
              "      <th>7</th>\n",
              "      <td>@tusharfindsu @sudipguti @AllianceBroadb1 @Con...</td>\n",
              "    </tr>\n",
              "    <tr>\n",
              "      <th>8</th>\n",
              "      <td>RT @debug_mode: 👉He committed suicide at the a...</td>\n",
              "    </tr>\n",
              "    <tr>\n",
              "      <th>9</th>\n",
              "      <td>RT @NASA: LIVE NOW: History is about to be mad...</td>\n",
              "    </tr>\n",
              "    <tr>\n",
              "      <th>10</th>\n",
              "      <td>@sudipguti Seriously! What are they doing? And...</td>\n",
              "    </tr>\n",
              "    <tr>\n",
              "      <th>11</th>\n",
              "      <td>@poojam1507 @Girlscript1 I am selected as a pa...</td>\n",
              "    </tr>\n",
              "    <tr>\n",
              "      <th>12</th>\n",
              "      <td>It has been 10 hours now without any kind of i...</td>\n",
              "    </tr>\n",
              "    <tr>\n",
              "      <th>13</th>\n",
              "      <td>@AllianceBroadb1 Please notify your users befo...</td>\n",
              "    </tr>\n",
              "    <tr>\n",
              "      <th>14</th>\n",
              "      <td>Been in #lockdownindia for 2 months now and ma...</td>\n",
              "    </tr>\n",
              "    <tr>\n",
              "      <th>15</th>\n",
              "      <td>Now WTF is this hairstyle !? 🤷🏻‍♂️🤷🏻‍♂️ \\n\\n#f...</td>\n",
              "    </tr>\n",
              "    <tr>\n",
              "      <th>16</th>\n",
              "      <td>#CoronaLockdownIndia, I was getting bored so I...</td>\n",
              "    </tr>\n",
              "    <tr>\n",
              "      <th>17</th>\n",
              "      <td>@debdutgoswami @chiragnayyar @netflix Mr.Robot...</td>\n",
              "    </tr>\n",
              "    <tr>\n",
              "      <th>18</th>\n",
              "      <td>@chiragnayyar @netflix Money Heist and Bard of...</td>\n",
              "    </tr>\n",
              "    <tr>\n",
              "      <th>19</th>\n",
              "      <td>#Covid19India #CoronaChainScare #CoronavirusPa...</td>\n",
              "    </tr>\n",
              "  </tbody>\n",
              "</table>\n",
              "</div>"
            ],
            "text/plain": [
              "                                                 text\n",
              "0   @avi_my_name @elonmusk @RobertDowneyJr I hope ...\n",
              "1   Such a great achievement for @SpaceX, @elonmus...\n",
              "2        RT @SpaceX: Liftoff! https://t.co/DRBfdUM7JA\n",
              "3   Now that we are forced to stay home for so lon...\n",
              "4   @triethyl_01 I have an issue that I tend to pi...\n",
              "5   @triethyl_01 Sometimes I do forget the topic f...\n",
              "6   RT @tonygoldmark: Well nerds, I fuckin' did it...\n",
              "7   @tusharfindsu @sudipguti @AllianceBroadb1 @Con...\n",
              "8   RT @debug_mode: 👉He committed suicide at the a...\n",
              "9   RT @NASA: LIVE NOW: History is about to be mad...\n",
              "10  @sudipguti Seriously! What are they doing? And...\n",
              "11  @poojam1507 @Girlscript1 I am selected as a pa...\n",
              "12  It has been 10 hours now without any kind of i...\n",
              "13  @AllianceBroadb1 Please notify your users befo...\n",
              "14  Been in #lockdownindia for 2 months now and ma...\n",
              "15  Now WTF is this hairstyle !? 🤷🏻‍♂️🤷🏻‍♂️ \\n\\n#f...\n",
              "16  #CoronaLockdownIndia, I was getting bored so I...\n",
              "17  @debdutgoswami @chiragnayyar @netflix Mr.Robot...\n",
              "18  @chiragnayyar @netflix Money Heist and Bard of...\n",
              "19  #Covid19India #CoronaChainScare #CoronavirusPa..."
            ]
          },
          "metadata": {
            "tags": []
          },
          "execution_count": 19
        }
      ]
    },
    {
      "cell_type": "code",
      "metadata": {
        "id": "v8WqSYx9XiL-"
      },
      "source": [
        "import re\n",
        "import nltk\n",
        "import string\n",
        "import warnings\n",
        "from sklearn.metrics import accuracy_score\n",
        "from sklearn.feature_extraction.text import CountVectorizer"
      ],
      "execution_count": null,
      "outputs": []
    },
    {
      "cell_type": "code",
      "metadata": {
        "id": "qY55Mk8SboR6",
        "colab": {
          "base_uri": "https://localhost:8080/",
          "height": 197
        },
        "outputId": "2d8a03ee-1f2c-4619-be79-74dcb24a0c1d"
      },
      "source": [
        "df['cleantext'] = df['text'].str.replace(\"@\", \"\") \n",
        "df.head()"
      ],
      "execution_count": null,
      "outputs": [
        {
          "output_type": "execute_result",
          "data": {
            "text/html": [
              "<div>\n",
              "<style scoped>\n",
              "    .dataframe tbody tr th:only-of-type {\n",
              "        vertical-align: middle;\n",
              "    }\n",
              "\n",
              "    .dataframe tbody tr th {\n",
              "        vertical-align: top;\n",
              "    }\n",
              "\n",
              "    .dataframe thead th {\n",
              "        text-align: right;\n",
              "    }\n",
              "</style>\n",
              "<table border=\"1\" class=\"dataframe\">\n",
              "  <thead>\n",
              "    <tr style=\"text-align: right;\">\n",
              "      <th></th>\n",
              "      <th>text</th>\n",
              "      <th>cleantext</th>\n",
              "    </tr>\n",
              "  </thead>\n",
              "  <tbody>\n",
              "    <tr>\n",
              "      <th>0</th>\n",
              "      <td>@avi_my_name @elonmusk @RobertDowneyJr I hope ...</td>\n",
              "      <td>avi_my_name elonmusk RobertDowneyJr I hope Int...</td>\n",
              "    </tr>\n",
              "    <tr>\n",
              "      <th>1</th>\n",
              "      <td>Such a great achievement for @SpaceX, @elonmus...</td>\n",
              "      <td>Such a great achievement for SpaceX, elonmusk,...</td>\n",
              "    </tr>\n",
              "    <tr>\n",
              "      <th>2</th>\n",
              "      <td>RT @SpaceX: Liftoff! https://t.co/DRBfdUM7JA</td>\n",
              "      <td>RT SpaceX: Liftoff! https://t.co/DRBfdUM7JA</td>\n",
              "    </tr>\n",
              "    <tr>\n",
              "      <th>3</th>\n",
              "      <td>Now that we are forced to stay home for so lon...</td>\n",
              "      <td>Now that we are forced to stay home for so lon...</td>\n",
              "    </tr>\n",
              "    <tr>\n",
              "      <th>4</th>\n",
              "      <td>@triethyl_01 I have an issue that I tend to pi...</td>\n",
              "      <td>triethyl_01 I have an issue that I tend to pic...</td>\n",
              "    </tr>\n",
              "  </tbody>\n",
              "</table>\n",
              "</div>"
            ],
            "text/plain": [
              "                                                text                                          cleantext\n",
              "0  @avi_my_name @elonmusk @RobertDowneyJr I hope ...  avi_my_name elonmusk RobertDowneyJr I hope Int...\n",
              "1  Such a great achievement for @SpaceX, @elonmus...  Such a great achievement for SpaceX, elonmusk,...\n",
              "2       RT @SpaceX: Liftoff! https://t.co/DRBfdUM7JA        RT SpaceX: Liftoff! https://t.co/DRBfdUM7JA\n",
              "3  Now that we are forced to stay home for so lon...  Now that we are forced to stay home for so lon...\n",
              "4  @triethyl_01 I have an issue that I tend to pi...  triethyl_01 I have an issue that I tend to pic..."
            ]
          },
          "metadata": {
            "tags": []
          },
          "execution_count": 21
        }
      ]
    },
    {
      "cell_type": "code",
      "metadata": {
        "id": "9y_g0iKKcJnj",
        "colab": {
          "base_uri": "https://localhost:8080/",
          "height": 647
        },
        "outputId": "56b01227-d8fd-4237-b6ca-48d671cfafe5"
      },
      "source": [
        "df['cleantext']=df['cleantext'].str.replace(r\"http\\S+\", \"\")\n",
        "df"
      ],
      "execution_count": null,
      "outputs": [
        {
          "output_type": "execute_result",
          "data": {
            "text/html": [
              "<div>\n",
              "<style scoped>\n",
              "    .dataframe tbody tr th:only-of-type {\n",
              "        vertical-align: middle;\n",
              "    }\n",
              "\n",
              "    .dataframe tbody tr th {\n",
              "        vertical-align: top;\n",
              "    }\n",
              "\n",
              "    .dataframe thead th {\n",
              "        text-align: right;\n",
              "    }\n",
              "</style>\n",
              "<table border=\"1\" class=\"dataframe\">\n",
              "  <thead>\n",
              "    <tr style=\"text-align: right;\">\n",
              "      <th></th>\n",
              "      <th>text</th>\n",
              "      <th>cleantext</th>\n",
              "    </tr>\n",
              "  </thead>\n",
              "  <tbody>\n",
              "    <tr>\n",
              "      <th>0</th>\n",
              "      <td>@avi_my_name @elonmusk @RobertDowneyJr I hope ...</td>\n",
              "      <td>avi_my_name elonmusk RobertDowneyJr I hope Int...</td>\n",
              "    </tr>\n",
              "    <tr>\n",
              "      <th>1</th>\n",
              "      <td>Such a great achievement for @SpaceX, @elonmus...</td>\n",
              "      <td>Such a great achievement for SpaceX, elonmusk,...</td>\n",
              "    </tr>\n",
              "    <tr>\n",
              "      <th>2</th>\n",
              "      <td>RT @SpaceX: Liftoff! https://t.co/DRBfdUM7JA</td>\n",
              "      <td>RT SpaceX: Liftoff!</td>\n",
              "    </tr>\n",
              "    <tr>\n",
              "      <th>3</th>\n",
              "      <td>Now that we are forced to stay home for so lon...</td>\n",
              "      <td>Now that we are forced to stay home for so lon...</td>\n",
              "    </tr>\n",
              "    <tr>\n",
              "      <th>4</th>\n",
              "      <td>@triethyl_01 I have an issue that I tend to pi...</td>\n",
              "      <td>triethyl_01 I have an issue that I tend to pic...</td>\n",
              "    </tr>\n",
              "    <tr>\n",
              "      <th>5</th>\n",
              "      <td>@triethyl_01 Sometimes I do forget the topic f...</td>\n",
              "      <td>triethyl_01 Sometimes I do forget the topic fo...</td>\n",
              "    </tr>\n",
              "    <tr>\n",
              "      <th>6</th>\n",
              "      <td>RT @tonygoldmark: Well nerds, I fuckin' did it...</td>\n",
              "      <td>RT tonygoldmark: Well nerds, I fuckin' did it....</td>\n",
              "    </tr>\n",
              "    <tr>\n",
              "      <th>7</th>\n",
              "      <td>@tusharfindsu @sudipguti @AllianceBroadb1 @Con...</td>\n",
              "      <td>tusharfindsu sudipguti AllianceBroadb1 Consume...</td>\n",
              "    </tr>\n",
              "    <tr>\n",
              "      <th>8</th>\n",
              "      <td>RT @debug_mode: 👉He committed suicide at the a...</td>\n",
              "      <td>RT debug_mode: 👉He committed suicide at the ag...</td>\n",
              "    </tr>\n",
              "    <tr>\n",
              "      <th>9</th>\n",
              "      <td>RT @NASA: LIVE NOW: History is about to be mad...</td>\n",
              "      <td>RT NASA: LIVE NOW: History is about to be made...</td>\n",
              "    </tr>\n",
              "    <tr>\n",
              "      <th>10</th>\n",
              "      <td>@sudipguti Seriously! What are they doing? And...</td>\n",
              "      <td>sudipguti Seriously! What are they doing? And ...</td>\n",
              "    </tr>\n",
              "    <tr>\n",
              "      <th>11</th>\n",
              "      <td>@poojam1507 @Girlscript1 I am selected as a pa...</td>\n",
              "      <td>poojam1507 Girlscript1 I am selected as a part...</td>\n",
              "    </tr>\n",
              "    <tr>\n",
              "      <th>12</th>\n",
              "      <td>It has been 10 hours now without any kind of i...</td>\n",
              "      <td>It has been 10 hours now without any kind of i...</td>\n",
              "    </tr>\n",
              "    <tr>\n",
              "      <th>13</th>\n",
              "      <td>@AllianceBroadb1 Please notify your users befo...</td>\n",
              "      <td>AllianceBroadb1 Please notify your users befor...</td>\n",
              "    </tr>\n",
              "    <tr>\n",
              "      <th>14</th>\n",
              "      <td>Been in #lockdownindia for 2 months now and ma...</td>\n",
              "      <td>Been in #lockdownindia for 2 months now and ma...</td>\n",
              "    </tr>\n",
              "    <tr>\n",
              "      <th>15</th>\n",
              "      <td>Now WTF is this hairstyle !? 🤷🏻‍♂️🤷🏻‍♂️ \\n\\n#f...</td>\n",
              "      <td>Now WTF is this hairstyle !? 🤷🏻‍♂️🤷🏻‍♂️ \\n\\n#f...</td>\n",
              "    </tr>\n",
              "    <tr>\n",
              "      <th>16</th>\n",
              "      <td>#CoronaLockdownIndia, I was getting bored so I...</td>\n",
              "      <td>#CoronaLockdownIndia, I was getting bored so I...</td>\n",
              "    </tr>\n",
              "    <tr>\n",
              "      <th>17</th>\n",
              "      <td>@debdutgoswami @chiragnayyar @netflix Mr.Robot...</td>\n",
              "      <td>debdutgoswami chiragnayyar netflix Mr.Robot no...</td>\n",
              "    </tr>\n",
              "    <tr>\n",
              "      <th>18</th>\n",
              "      <td>@chiragnayyar @netflix Money Heist and Bard of...</td>\n",
              "      <td>chiragnayyar netflix Money Heist and Bard of B...</td>\n",
              "    </tr>\n",
              "    <tr>\n",
              "      <th>19</th>\n",
              "      <td>#Covid19India #CoronaChainScare #CoronavirusPa...</td>\n",
              "      <td>#Covid19India #CoronaChainScare #CoronavirusPa...</td>\n",
              "    </tr>\n",
              "  </tbody>\n",
              "</table>\n",
              "</div>"
            ],
            "text/plain": [
              "                                                 text                                          cleantext\n",
              "0   @avi_my_name @elonmusk @RobertDowneyJr I hope ...  avi_my_name elonmusk RobertDowneyJr I hope Int...\n",
              "1   Such a great achievement for @SpaceX, @elonmus...  Such a great achievement for SpaceX, elonmusk,...\n",
              "2        RT @SpaceX: Liftoff! https://t.co/DRBfdUM7JA                               RT SpaceX: Liftoff! \n",
              "3   Now that we are forced to stay home for so lon...  Now that we are forced to stay home for so lon...\n",
              "4   @triethyl_01 I have an issue that I tend to pi...  triethyl_01 I have an issue that I tend to pic...\n",
              "5   @triethyl_01 Sometimes I do forget the topic f...  triethyl_01 Sometimes I do forget the topic fo...\n",
              "6   RT @tonygoldmark: Well nerds, I fuckin' did it...  RT tonygoldmark: Well nerds, I fuckin' did it....\n",
              "7   @tusharfindsu @sudipguti @AllianceBroadb1 @Con...  tusharfindsu sudipguti AllianceBroadb1 Consume...\n",
              "8   RT @debug_mode: 👉He committed suicide at the a...  RT debug_mode: 👉He committed suicide at the ag...\n",
              "9   RT @NASA: LIVE NOW: History is about to be mad...  RT NASA: LIVE NOW: History is about to be made...\n",
              "10  @sudipguti Seriously! What are they doing? And...  sudipguti Seriously! What are they doing? And ...\n",
              "11  @poojam1507 @Girlscript1 I am selected as a pa...  poojam1507 Girlscript1 I am selected as a part...\n",
              "12  It has been 10 hours now without any kind of i...  It has been 10 hours now without any kind of i...\n",
              "13  @AllianceBroadb1 Please notify your users befo...  AllianceBroadb1 Please notify your users befor...\n",
              "14  Been in #lockdownindia for 2 months now and ma...  Been in #lockdownindia for 2 months now and ma...\n",
              "15  Now WTF is this hairstyle !? 🤷🏻‍♂️🤷🏻‍♂️ \\n\\n#f...  Now WTF is this hairstyle !? 🤷🏻‍♂️🤷🏻‍♂️ \\n\\n#f...\n",
              "16  #CoronaLockdownIndia, I was getting bored so I...  #CoronaLockdownIndia, I was getting bored so I...\n",
              "17  @debdutgoswami @chiragnayyar @netflix Mr.Robot...  debdutgoswami chiragnayyar netflix Mr.Robot no...\n",
              "18  @chiragnayyar @netflix Money Heist and Bard of...  chiragnayyar netflix Money Heist and Bard of B...\n",
              "19  #Covid19India #CoronaChainScare #CoronavirusPa...  #Covid19India #CoronaChainScare #CoronavirusPa..."
            ]
          },
          "metadata": {
            "tags": []
          },
          "execution_count": 22
        }
      ]
    },
    {
      "cell_type": "code",
      "metadata": {
        "id": "AKgIq-GocX3J",
        "colab": {
          "base_uri": "https://localhost:8080/",
          "height": 647
        },
        "outputId": "94f58ecc-1c89-4f73-b56f-f4cbb60a4738"
      },
      "source": [
        "df['cleantext']=df['cleantext'].str.replace(\"[^a-zA-Z]\", \" \")\n",
        "df"
      ],
      "execution_count": null,
      "outputs": [
        {
          "output_type": "execute_result",
          "data": {
            "text/html": [
              "<div>\n",
              "<style scoped>\n",
              "    .dataframe tbody tr th:only-of-type {\n",
              "        vertical-align: middle;\n",
              "    }\n",
              "\n",
              "    .dataframe tbody tr th {\n",
              "        vertical-align: top;\n",
              "    }\n",
              "\n",
              "    .dataframe thead th {\n",
              "        text-align: right;\n",
              "    }\n",
              "</style>\n",
              "<table border=\"1\" class=\"dataframe\">\n",
              "  <thead>\n",
              "    <tr style=\"text-align: right;\">\n",
              "      <th></th>\n",
              "      <th>text</th>\n",
              "      <th>cleantext</th>\n",
              "    </tr>\n",
              "  </thead>\n",
              "  <tbody>\n",
              "    <tr>\n",
              "      <th>0</th>\n",
              "      <td>@avi_my_name @elonmusk @RobertDowneyJr I hope ...</td>\n",
              "      <td>avi my name elonmusk RobertDowneyJr I hope Int...</td>\n",
              "    </tr>\n",
              "    <tr>\n",
              "      <th>1</th>\n",
              "      <td>Such a great achievement for @SpaceX, @elonmus...</td>\n",
              "      <td>Such a great achievement for SpaceX  elonmusk ...</td>\n",
              "    </tr>\n",
              "    <tr>\n",
              "      <th>2</th>\n",
              "      <td>RT @SpaceX: Liftoff! https://t.co/DRBfdUM7JA</td>\n",
              "      <td>RT SpaceX  Liftoff</td>\n",
              "    </tr>\n",
              "    <tr>\n",
              "      <th>3</th>\n",
              "      <td>Now that we are forced to stay home for so lon...</td>\n",
              "      <td>Now that we are forced to stay home for so lon...</td>\n",
              "    </tr>\n",
              "    <tr>\n",
              "      <th>4</th>\n",
              "      <td>@triethyl_01 I have an issue that I tend to pi...</td>\n",
              "      <td>triethyl    I have an issue that I tend to pic...</td>\n",
              "    </tr>\n",
              "    <tr>\n",
              "      <th>5</th>\n",
              "      <td>@triethyl_01 Sometimes I do forget the topic f...</td>\n",
              "      <td>triethyl    Sometimes I do forget the topic fo...</td>\n",
              "    </tr>\n",
              "    <tr>\n",
              "      <th>6</th>\n",
              "      <td>RT @tonygoldmark: Well nerds, I fuckin' did it...</td>\n",
              "      <td>RT tonygoldmark  Well nerds  I fuckin  did it ...</td>\n",
              "    </tr>\n",
              "    <tr>\n",
              "      <th>7</th>\n",
              "      <td>@tusharfindsu @sudipguti @AllianceBroadb1 @Con...</td>\n",
              "      <td>tusharfindsu sudipguti AllianceBroadb  Consume...</td>\n",
              "    </tr>\n",
              "    <tr>\n",
              "      <th>8</th>\n",
              "      <td>RT @debug_mode: 👉He committed suicide at the a...</td>\n",
              "      <td>RT debug mode   He committed suicide at the ag...</td>\n",
              "    </tr>\n",
              "    <tr>\n",
              "      <th>9</th>\n",
              "      <td>RT @NASA: LIVE NOW: History is about to be mad...</td>\n",
              "      <td>RT NASA  LIVE NOW  History is about to be made...</td>\n",
              "    </tr>\n",
              "    <tr>\n",
              "      <th>10</th>\n",
              "      <td>@sudipguti Seriously! What are they doing? And...</td>\n",
              "      <td>sudipguti Seriously  What are they doing  And ...</td>\n",
              "    </tr>\n",
              "    <tr>\n",
              "      <th>11</th>\n",
              "      <td>@poojam1507 @Girlscript1 I am selected as a pa...</td>\n",
              "      <td>poojam     Girlscript  I am selected as a part...</td>\n",
              "    </tr>\n",
              "    <tr>\n",
              "      <th>12</th>\n",
              "      <td>It has been 10 hours now without any kind of i...</td>\n",
              "      <td>It has been    hours now without any kind of i...</td>\n",
              "    </tr>\n",
              "    <tr>\n",
              "      <th>13</th>\n",
              "      <td>@AllianceBroadb1 Please notify your users befo...</td>\n",
              "      <td>AllianceBroadb  Please notify your users befor...</td>\n",
              "    </tr>\n",
              "    <tr>\n",
              "      <th>14</th>\n",
              "      <td>Been in #lockdownindia for 2 months now and ma...</td>\n",
              "      <td>Been in  lockdownindia for   months now and ma...</td>\n",
              "    </tr>\n",
              "    <tr>\n",
              "      <th>15</th>\n",
              "      <td>Now WTF is this hairstyle !? 🤷🏻‍♂️🤷🏻‍♂️ \\n\\n#f...</td>\n",
              "      <td>Now WTF is this hairstyle                  foo...</td>\n",
              "    </tr>\n",
              "    <tr>\n",
              "      <th>16</th>\n",
              "      <td>#CoronaLockdownIndia, I was getting bored so I...</td>\n",
              "      <td>CoronaLockdownIndia  I was getting bored so I...</td>\n",
              "    </tr>\n",
              "    <tr>\n",
              "      <th>17</th>\n",
              "      <td>@debdutgoswami @chiragnayyar @netflix Mr.Robot...</td>\n",
              "      <td>debdutgoswami chiragnayyar netflix Mr Robot no...</td>\n",
              "    </tr>\n",
              "    <tr>\n",
              "      <th>18</th>\n",
              "      <td>@chiragnayyar @netflix Money Heist and Bard of...</td>\n",
              "      <td>chiragnayyar netflix Money Heist and Bard of B...</td>\n",
              "    </tr>\n",
              "    <tr>\n",
              "      <th>19</th>\n",
              "      <td>#Covid19India #CoronaChainScare #CoronavirusPa...</td>\n",
              "      <td>Covid  India  CoronaChainScare  CoronavirusPa...</td>\n",
              "    </tr>\n",
              "  </tbody>\n",
              "</table>\n",
              "</div>"
            ],
            "text/plain": [
              "                                                 text                                          cleantext\n",
              "0   @avi_my_name @elonmusk @RobertDowneyJr I hope ...  avi my name elonmusk RobertDowneyJr I hope Int...\n",
              "1   Such a great achievement for @SpaceX, @elonmus...  Such a great achievement for SpaceX  elonmusk ...\n",
              "2        RT @SpaceX: Liftoff! https://t.co/DRBfdUM7JA                               RT SpaceX  Liftoff  \n",
              "3   Now that we are forced to stay home for so lon...  Now that we are forced to stay home for so lon...\n",
              "4   @triethyl_01 I have an issue that I tend to pi...  triethyl    I have an issue that I tend to pic...\n",
              "5   @triethyl_01 Sometimes I do forget the topic f...  triethyl    Sometimes I do forget the topic fo...\n",
              "6   RT @tonygoldmark: Well nerds, I fuckin' did it...  RT tonygoldmark  Well nerds  I fuckin  did it ...\n",
              "7   @tusharfindsu @sudipguti @AllianceBroadb1 @Con...  tusharfindsu sudipguti AllianceBroadb  Consume...\n",
              "8   RT @debug_mode: 👉He committed suicide at the a...  RT debug mode   He committed suicide at the ag...\n",
              "9   RT @NASA: LIVE NOW: History is about to be mad...  RT NASA  LIVE NOW  History is about to be made...\n",
              "10  @sudipguti Seriously! What are they doing? And...  sudipguti Seriously  What are they doing  And ...\n",
              "11  @poojam1507 @Girlscript1 I am selected as a pa...  poojam     Girlscript  I am selected as a part...\n",
              "12  It has been 10 hours now without any kind of i...  It has been    hours now without any kind of i...\n",
              "13  @AllianceBroadb1 Please notify your users befo...  AllianceBroadb  Please notify your users befor...\n",
              "14  Been in #lockdownindia for 2 months now and ma...  Been in  lockdownindia for   months now and ma...\n",
              "15  Now WTF is this hairstyle !? 🤷🏻‍♂️🤷🏻‍♂️ \\n\\n#f...  Now WTF is this hairstyle                  foo...\n",
              "16  #CoronaLockdownIndia, I was getting bored so I...   CoronaLockdownIndia  I was getting bored so I...\n",
              "17  @debdutgoswami @chiragnayyar @netflix Mr.Robot...  debdutgoswami chiragnayyar netflix Mr Robot no...\n",
              "18  @chiragnayyar @netflix Money Heist and Bard of...  chiragnayyar netflix Money Heist and Bard of B...\n",
              "19  #Covid19India #CoronaChainScare #CoronavirusPa...   Covid  India  CoronaChainScare  CoronavirusPa..."
            ]
          },
          "metadata": {
            "tags": []
          },
          "execution_count": 23
        }
      ]
    },
    {
      "cell_type": "code",
      "metadata": {
        "id": "wf8S0sj6cofc"
      },
      "source": [
        "vect=CountVectorizer(decode_error=\"replace\", vocabulary=pickle.load(open(\"feature.pkl\", \"rb\")))"
      ],
      "execution_count": null,
      "outputs": []
    },
    {
      "cell_type": "code",
      "metadata": {
        "id": "ZstJ8WiHc_7D"
      },
      "source": [
        "test=vect.transform(df['cleantext'])"
      ],
      "execution_count": null,
      "outputs": []
    },
    {
      "cell_type": "code",
      "metadata": {
        "id": "4M4CZGV-dWCb"
      },
      "source": [
        "res=model.predict(test)"
      ],
      "execution_count": null,
      "outputs": []
    },
    {
      "cell_type": "code",
      "metadata": {
        "id": "MX6SrfNjdgj2",
        "colab": {
          "base_uri": "https://localhost:8080/",
          "height": 372
        },
        "outputId": "2ed533d0-3246-49c5-ec3a-c4c78e4d1b92"
      },
      "source": [
        "total=0\n",
        "hpcnt=0\n",
        "for i in res:\n",
        "  total+=1\n",
        "  if i==4:\n",
        "    print(\"Happy\")\n",
        "    hpcnt+=1\n",
        "  elif i==2:\n",
        "    print(\"Neutral\")\n",
        "  else:\n",
        "    print(\"Depressed\")"
      ],
      "execution_count": null,
      "outputs": [
        {
          "output_type": "stream",
          "text": [
            "Happy\n",
            "Happy\n",
            "Happy\n",
            "Depressed\n",
            "Happy\n",
            "Happy\n",
            "Depressed\n",
            "Happy\n",
            "Happy\n",
            "Happy\n",
            "Happy\n",
            "Happy\n",
            "Depressed\n",
            "Depressed\n",
            "Depressed\n",
            "Happy\n",
            "Depressed\n",
            "Happy\n",
            "Depressed\n",
            "Depressed\n"
          ],
          "name": "stdout"
        }
      ]
    },
    {
      "cell_type": "code",
      "metadata": {
        "id": "BCQNE7-6dqsG"
      },
      "source": [
        "hpper=float(hpcnt)/total"
      ],
      "execution_count": null,
      "outputs": []
    },
    {
      "cell_type": "code",
      "metadata": {
        "id": "kCrYE-o_gO5o"
      },
      "source": [
        "hpper*=100"
      ],
      "execution_count": null,
      "outputs": []
    },
    {
      "cell_type": "code",
      "metadata": {
        "id": "HYb8fZjugWhH",
        "colab": {
          "base_uri": "https://localhost:8080/",
          "height": 282
        },
        "outputId": "ba1d9f72-3fd0-4308-85bb-2477e3475e76"
      },
      "source": [
        "plt.bar([\"Happiness\", \"Depression\"], [hpper, 100-hpper], width=0.4, align=\"center\", color=[\"green\", \"red\"])"
      ],
      "execution_count": null,
      "outputs": [
        {
          "output_type": "execute_result",
          "data": {
            "text/plain": [
              "<BarContainer object of 2 artists>"
            ]
          },
          "metadata": {
            "tags": []
          },
          "execution_count": 42
        },
        {
          "output_type": "display_data",
          "data": {
            "image/png": "[encoded data removed]",
            "text/plain": [
              "<Figure size 432x288 with 1 Axes>"
            ]
          },
          "metadata": {
            "tags": [],
            "needs_background": "light"
          }
        }
      ]
    },
    {
      "cell_type": "code",
      "metadata": {
        "id": "60jjC2HLhPxn"
      },
      "source": [
        ""
      ],
      "execution_count": null,
      "outputs": []
    }
  ]
}